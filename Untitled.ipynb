{
 "cells": [
  {
   "cell_type": "code",
   "execution_count": 15,
   "id": "fc4a09b0",
   "metadata": {},
   "outputs": [
    {
     "name": "stdout",
     "output_type": "stream",
     "text": [
      "False\n"
     ]
    }
   ],
   "source": [
    "x = 42\n",
    "y = True\n",
    "z = not y\n",
    "\n",
    "print(z)"
   ]
  },
  {
   "cell_type": "code",
   "execution_count": 16,
   "id": "1ff9ebb4",
   "metadata": {},
   "outputs": [
    {
     "name": "stdout",
     "output_type": "stream",
     "text": [
      "False\n",
      "False\n"
     ]
    }
   ],
   "source": [
    "x = 42\n",
    "y = True\n",
    "z = not y\n",
    "\n",
    "if y:\n",
    "    x = x / 2\n",
    "    y = not y\n",
    "else:\n",
    "    x = x * 2\n",
    "\n",
    "print(y)\n",
    "print(z)\n"
   ]
  },
  {
   "cell_type": "code",
   "execution_count": 17,
   "id": "4125a6a3",
   "metadata": {},
   "outputs": [],
   "source": [
    "x = 42\n",
    "y = True\n",
    "z = not y\n",
    "\n",
    "if y:\n",
    "    x = x / 2\n",
    "    y = not y\n",
    "else:\n",
    "    x = x * 2\n",
    "    \n",
    "if x < 42:\n",
    "    z = not y\n",
    "else:\n",
    "    z = not z\n"
   ]
  },
  {
   "cell_type": "code",
   "execution_count": 19,
   "id": "35b3c8ff",
   "metadata": {},
   "outputs": [
    {
     "name": "stdout",
     "output_type": "stream",
     "text": [
      "True\n",
      "False\n"
     ]
    }
   ],
   "source": [
    "print(z)\n",
    "print(y)"
   ]
  },
  {
   "cell_type": "code",
   "execution_count": 22,
   "id": "a2387943",
   "metadata": {},
   "outputs": [],
   "source": [
    "x = 42\n",
    "y = False\n",
    "z = not y\n",
    "\n",
    "if y:\n",
    "    x = x / 2\n",
    "    y = not y\n",
    "else:\n",
    "    x = x * 2"
   ]
  },
  {
   "cell_type": "code",
   "execution_count": 23,
   "id": "1f0199dd",
   "metadata": {
    "scrolled": true
   },
   "outputs": [
    {
     "name": "stdout",
     "output_type": "stream",
     "text": [
      "84\n",
      "False\n",
      "True\n"
     ]
    }
   ],
   "source": [
    "print(x)\n",
    "print(y)\n",
    "print(z)"
   ]
  },
  {
   "cell_type": "code",
   "execution_count": 24,
   "id": "9e3a4863",
   "metadata": {},
   "outputs": [
    {
     "data": {
      "text/plain": [
       "float"
      ]
     },
     "execution_count": 24,
     "metadata": {},
     "output_type": "execute_result"
    }
   ],
   "source": [
    "x = \"22\"\n",
    "y = int(x) + 2\n",
    "z = int(x) / 3 \n",
    "\n",
    "type(z)"
   ]
  },
  {
   "cell_type": "code",
   "execution_count": 1,
   "id": "f14e2249",
   "metadata": {},
   "outputs": [],
   "source": [
    "def ds(number):\n",
    "    digit_sum = 0\n",
    "    \n",
    "    if number >= 0:\n",
    "        for digit in str(number):\n",
    "            digit_sum += int(digit)\n",
    "    else:\n",
    "        digit_sum = \"You provided a negative number, This function requires positive integers.\"\n",
    "        \n",
    "        \n",
    "    return digit_sum"
   ]
  },
  {
   "cell_type": "code",
   "execution_count": 4,
   "id": "aef8f496",
   "metadata": {
    "scrolled": true
   },
   "outputs": [
    {
     "data": {
      "text/plain": [
       "'You provided a negative number, This function requires positive integers.'"
      ]
     },
     "execution_count": 4,
     "metadata": {},
     "output_type": "execute_result"
    }
   ],
   "source": [
    "ds(-1.5)"
   ]
  },
  {
   "cell_type": "code",
   "execution_count": 5,
   "id": "6b2aeb37",
   "metadata": {},
   "outputs": [
    {
     "data": {
      "text/plain": [
       "2"
      ]
     },
     "execution_count": 5,
     "metadata": {},
     "output_type": "execute_result"
    }
   ],
   "source": [
    "ds(2)"
   ]
  },
  {
   "cell_type": "code",
   "execution_count": 6,
   "id": "0d54f89f",
   "metadata": {},
   "outputs": [
    {
     "data": {
      "text/plain": [
       "9"
      ]
     },
     "execution_count": 6,
     "metadata": {},
     "output_type": "execute_result"
    }
   ],
   "source": [
    "ds(234)"
   ]
  },
  {
   "cell_type": "code",
   "execution_count": null,
   "id": "4c149aac",
   "metadata": {},
   "outputs": [],
   "source": []
  }
 ],
 "metadata": {
  "kernelspec": {
   "display_name": "Python 3 (ipykernel)",
   "language": "python",
   "name": "python3"
  },
  "language_info": {
   "codemirror_mode": {
    "name": "ipython",
    "version": 3
   },
   "file_extension": ".py",
   "mimetype": "text/x-python",
   "name": "python",
   "nbconvert_exporter": "python",
   "pygments_lexer": "ipython3",
   "version": "3.11.4"
  }
 },
 "nbformat": 4,
 "nbformat_minor": 5
}
